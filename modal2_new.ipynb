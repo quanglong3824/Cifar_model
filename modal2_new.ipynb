{
  "cells": [
    {
      "cell_type": "code",
      "execution_count": 15,
      "metadata": {
        "id": "iYNFUGmkIpfh"
      },
      "outputs": [],
      "source": [
        "%matplotlib inline"
      ]
    },
    {
      "cell_type": "markdown",
      "metadata": {
        "id": "wQ0ic7CWIpfo"
      },
      "source": [
        "\n",
        "Training a Classifier\n",
        "=====================\n",
        "\n",
        "This is it. You have seen how to define neural networks, compute loss and make\n",
        "updates to the weights of the network.\n",
        "\n",
        "Now you might be thinking,\n",
        "\n",
        "What about data?\n",
        "----------------\n",
        "\n",
        "Generally, when you have to deal with image, text, audio or video data,\n",
        "you can use standard python packages that load data into a numpy array.\n",
        "Then you can convert this array into a ``torch.*Tensor``.\n",
        "\n",
        "-  For images, packages such as Pillow, OpenCV are useful\n",
        "-  For audio, packages such as scipy and librosa\n",
        "-  For text, either raw Python or Cython based loading, or NLTK and\n",
        "   SpaCy are useful\n",
        "\n",
        "Specifically for vision, we have created a package called\n",
        "``torchvision``, that has data loaders for common datasets such as\n",
        "Imagenet, CIFAR10, MNIST, etc. and data transformers for images, viz.,\n",
        "``torchvision.datasets`` and ``torch.utils.data.DataLoader``.\n",
        "\n",
        "This provides a huge convenience and avoids writing boilerplate code.\n",
        "\n",
        "For this tutorial, we will use the CIFAR10 dataset.\n",
        "It has the classes: ‘airplane’, ‘automobile’, ‘bird’, ‘cat’, ‘deer’,\n",
        "‘dog’, ‘frog’, ‘horse’, ‘ship’, ‘truck’. The images in CIFAR-10 are of\n",
        "size 3x32x32, i.e. 3-channel color images of 32x32 pixels in size.\n",
        "\n",
        ".. figure:: /_static/img/cifar10.png\n",
        "   :alt: cifar10\n",
        "\n",
        "   cifar10\n",
        "\n",
        "\n",
        "Training an image classifier\n",
        "----------------------------\n",
        "\n",
        "We will do the following steps in order:\n",
        "\n",
        "1. Load and normalizing the CIFAR10 training and test datasets using\n",
        "   ``torchvision``\n",
        "2. Define a Convolution Neural Network\n",
        "3. Define a loss function\n",
        "4. Train the network on the training data\n",
        "5. Test the network on the test data\n",
        "\n",
        "1. Loading and normalizing CIFAR10\n",
        "^^^^^^^^^^^^^^^^^^^^^^^^^^^^^^^^^^\n",
        "\n",
        "Using ``torchvision``, it’s extremely easy to load CIFAR10.\n",
        "\n"
      ]
    },
    {
      "cell_type": "code",
      "execution_count": 16,
      "metadata": {
        "id": "iwV87SJsIpfw"
      },
      "outputs": [],
      "source": [
        "import torch\n",
        "import torchvision\n",
        "import torchvision.transforms as transforms"
      ]
    },
    {
      "cell_type": "markdown",
      "metadata": {
        "id": "IFKubOuKIpfx"
      },
      "source": [
        "The output of torchvision datasets are PILImage images of range [0, 1].\n",
        "We transform them to Tensors of normalized range [-1, 1].\n",
        "\n"
      ]
    },
    {
      "cell_type": "code",
      "execution_count": 17,
      "metadata": {
        "id": "h0lBq7sCIpfy"
      },
      "outputs": [],
      "source": [
        "transform = transforms.Compose(\n",
        "    [transforms.ToTensor(),\n",
        "     transforms.Normalize((0.5, 0.5, 0.5), (0.5, 0.5, 0.5))])\n",
        "\n",
        "trainset = torchvision.datasets.CIFAR10(root='./data', train=True,\n",
        "                                        download=True, transform=transform)\n",
        "trainloader = torch.utils.data.DataLoader(trainset, batch_size=4,\n",
        "                                          shuffle=True, num_workers=2)\n",
        "\n",
        "testset = torchvision.datasets.CIFAR10(root='./data', train=False,\n",
        "                                       download=True, transform=transform)\n",
        "testloader = torch.utils.data.DataLoader(testset, batch_size=4,\n",
        "                                         shuffle=False, num_workers=2)\n",
        "\n",
        "classes = ('plane', 'car', 'bird', 'cat',\n",
        "           'deer', 'dog', 'frog', 'horse', 'ship', 'truck')"
      ]
    },
    {
      "cell_type": "markdown",
      "metadata": {
        "id": "cisidtp8Ipfy"
      },
      "source": [
        "Let us show some of the training images, for fun.\n",
        "\n"
      ]
    },
    {
      "cell_type": "code",
      "execution_count": 19,
      "metadata": {
        "colab": {
          "base_uri": "https://localhost:8080/",
          "height": 209
        },
        "id": "ggvGm2EvIpfz",
        "outputId": "5e9dedaf-02e7-47c7-e749-f55d864243f8"
      },
      "outputs": [
        {
          "output_type": "stream",
          "name": "stdout",
          "text": [
            " frog truck plane   dog\n"
          ]
        },
        {
          "output_type": "display_data",
          "data": {
            "text/plain": [
              "<Figure size 640x480 with 1 Axes>"
            ],
            "image/png": "[encoded data removed]"
          },
          "metadata": {}
        }
      ],
      "source": [
        "import matplotlib.pyplot as plt\n",
        "import numpy as np\n",
        "\n",
        "# functions to show an image\n",
        "\n",
        "\n",
        "def imshow(img):\n",
        "    img = img / 2 + 0.5     # unnormalize\n",
        "    npimg = img.numpy()\n",
        "    plt.imshow(np.transpose(npimg, (1, 2, 0)))\n",
        "\n",
        "\n",
        "# get some random training images\n",
        "dataiter = iter(trainloader)\n",
        "images, labels = next(dataiter)\n",
        "\n",
        "# show images\n",
        "imshow(torchvision.utils.make_grid(images))\n",
        "# print labels\n",
        "print(' '.join('%5s' % classes[labels[j]] for j in range(4)))"
      ]
    },
    {
      "cell_type": "markdown",
      "metadata": {
        "id": "sE1eSt3wIpf1"
      },
      "source": [
        "2. Define a Convolution Neural Network\n",
        "^^^^^^^^^^^^^^^^^^^^^^^^^^^^^^^^^^^^^^\n",
        "Copy the neural network from the Neural Networks section before and modify it to\n",
        "take 3-channel images (instead of 1-channel images as it was defined).\n",
        "\n"
      ]
    },
    {
      "cell_type": "code",
      "execution_count": 20,
      "metadata": {
        "colab": {
          "base_uri": "https://localhost:8080/"
        },
        "id": "Eno0qRHzIpf2",
        "outputId": "4fb4c501-41ed-45fe-8ef0-ab0169c3f8fa"
      },
      "outputs": [
        {
          "output_type": "stream",
          "name": "stdout",
          "text": [
            "Using device: cuda:0\n",
            "Output shape: torch.Size([1, 10])\n",
            "Total number of trainable parameters: 10514890\n",
            "----------------------------------------------------------------\n",
            "        Layer (type)               Output Shape         Param #\n",
            "================================================================\n",
            "            Conv2d-1           [-1, 32, 32, 32]           2,432\n",
            "       BatchNorm2d-2           [-1, 32, 32, 32]              64\n",
            "            Conv2d-3           [-1, 64, 32, 32]          51,264\n",
            "       BatchNorm2d-4           [-1, 64, 32, 32]             128\n",
            "            Conv2d-5           [-1, 64, 32, 32]          51,264\n",
            "       BatchNorm2d-6           [-1, 64, 32, 32]             128\n",
            "            Conv2d-7          [-1, 128, 32, 32]         409,728\n",
            "       BatchNorm2d-8          [-1, 128, 32, 32]             256\n",
            "            Conv2d-9          [-1, 128, 32, 32]         409,728\n",
            "      BatchNorm2d-10          [-1, 128, 32, 32]             256\n",
            "           Conv2d-11          [-1, 128, 32, 32]         409,728\n",
            "      BatchNorm2d-12          [-1, 128, 32, 32]             256\n",
            "        MaxPool2d-13          [-1, 128, 16, 16]               0\n",
            "           Conv2d-14          [-1, 256, 16, 16]         819,456\n",
            "      BatchNorm2d-15          [-1, 256, 16, 16]             512\n",
            "           Conv2d-16          [-1, 256, 16, 16]       1,638,656\n",
            "      BatchNorm2d-17          [-1, 256, 16, 16]             512\n",
            "           Conv2d-18          [-1, 256, 16, 16]       1,638,656\n",
            "      BatchNorm2d-19          [-1, 256, 16, 16]             512\n",
            "           Conv2d-20          [-1, 256, 16, 16]       1,638,656\n",
            "      BatchNorm2d-21          [-1, 256, 16, 16]             512\n",
            "           Conv2d-22          [-1, 256, 16, 16]       1,638,656\n",
            "      BatchNorm2d-23          [-1, 256, 16, 16]             512\n",
            "           Conv2d-24          [-1, 256, 16, 16]       1,638,656\n",
            "      BatchNorm2d-25          [-1, 256, 16, 16]             512\n",
            "        MaxPool2d-26            [-1, 256, 8, 8]               0\n",
            "           Linear-27                   [-1, 10]         163,850\n",
            "================================================================\n",
            "Total params: 10,514,890\n",
            "Trainable params: 10,514,890\n",
            "Non-trainable params: 0\n",
            "----------------------------------------------------------------\n",
            "Input size (MB): 0.01\n",
            "Forward/backward pass size (MB): 14.88\n",
            "Params size (MB): 40.11\n",
            "Estimated Total Size (MB): 55.00\n",
            "----------------------------------------------------------------\n"
          ]
        }
      ],
      "source": [
        "import torch.nn as nn\n",
        "import torch.nn.functional as F\n",
        "import torch\n",
        "\n",
        "class Model2(nn.Module):\n",
        "    def __init__(self):\n",
        "        super(Model2, self).__init__()\n",
        "        # Thiết kế để có đủ 10+ conv5x5, 2 maxpooling, 1 torch.cat, 2 phép cộng tensors\n",
        "        # và đạt 17-19.5M parameters với BatchNorm để cân bằng\n",
        "\n",
        "        # Conv layers 1-3: Initial processing (conv đầu tiên bắt buộc 3->32)\n",
        "        self.conv1 = nn.Conv2d(in_channels=3, out_channels=32, kernel_size=5, padding=2, stride=1)\n",
        "        self.bn1 = nn.BatchNorm2d(32)\n",
        "\n",
        "        self.conv2 = nn.Conv2d(in_channels=32, out_channels=64, kernel_size=5, padding=2, stride=1)\n",
        "        self.bn2 = nn.BatchNorm2d(64)\n",
        "\n",
        "        self.conv3 = nn.Conv2d(in_channels=32, out_channels=64, kernel_size=5, padding=2, stride=1)\n",
        "        self.bn3 = nn.BatchNorm2d(64)\n",
        "\n",
        "        # Conv layers 4-6: After concatenation (64 + 64 = 128 channels)\n",
        "        self.conv4 = nn.Conv2d(in_channels=128, out_channels=128, kernel_size=5, padding=2, stride=1)\n",
        "        self.bn4 = nn.BatchNorm2d(128)\n",
        "\n",
        "        self.conv5 = nn.Conv2d(in_channels=128, out_channels=128, kernel_size=5, padding=2, stride=1)\n",
        "        self.bn5 = nn.BatchNorm2d(128)\n",
        "\n",
        "        self.conv6 = nn.Conv2d(in_channels=128, out_channels=128, kernel_size=5, padding=2, stride=1)\n",
        "        self.bn6 = nn.BatchNorm2d(128)\n",
        "\n",
        "        # Maxpool 1\n",
        "        self.maxpool1 = nn.MaxPool2d(kernel_size=2, stride=2)\n",
        "\n",
        "        # Conv layers 7-9: After first maxpool\n",
        "        self.conv7 = nn.Conv2d(in_channels=128, out_channels=256, kernel_size=5, padding=2, stride=1)\n",
        "        self.bn7 = nn.BatchNorm2d(256)\n",
        "\n",
        "        self.conv8 = nn.Conv2d(in_channels=256, out_channels=256, kernel_size=5, padding=2, stride=1)\n",
        "        self.bn8 = nn.BatchNorm2d(256)\n",
        "\n",
        "        self.conv9 = nn.Conv2d(in_channels=256, out_channels=256, kernel_size=5, padding=2, stride=1)\n",
        "        self.bn9 = nn.BatchNorm2d(256)\n",
        "\n",
        "        # Conv layers 10-12: For addition operations\n",
        "        self.conv10 = nn.Conv2d(in_channels=256, out_channels=256, kernel_size=5, padding=2, stride=1)\n",
        "        self.bn10 = nn.BatchNorm2d(256)\n",
        "\n",
        "        self.conv11 = nn.Conv2d(in_channels=256, out_channels=256, kernel_size=5, padding=2, stride=1)\n",
        "        self.bn11 = nn.BatchNorm2d(256)\n",
        "\n",
        "        self.conv12 = nn.Conv2d(in_channels=256, out_channels=256, kernel_size=5, padding=2, stride=1)\n",
        "        self.bn12 = nn.BatchNorm2d(256)\n",
        "\n",
        "        # Maxpool 2\n",
        "        self.maxpool2 = nn.MaxPool2d(kernel_size=2, stride=2)\n",
        "\n",
        "        # Fully connected layer (chỉ 1 FC layer như yêu cầu)\n",
        "        # Input size: 32x32 -> 16x16 (maxpool1) -> 8x8 (maxpool2)\n",
        "        # 8x8x256 = 16384 (giảm từ 32768)\n",
        "        self.fc = nn.Linear(256 * 8 * 8, 10)\n",
        "\n",
        "    def forward(self, x):\n",
        "        # Conv layers 1-3: Initial processing với BatchNorm\n",
        "        x = F.relu(self.bn1(self.conv1(x)))  # 32x32x32\n",
        "\n",
        "        # Parallel branches for concatenation\n",
        "        x2 = F.relu(self.bn2(self.conv2(x)))  # 32x32x64\n",
        "        x3 = F.relu(self.bn3(self.conv3(x)))  # 32x32x64\n",
        "\n",
        "        # Concatenation operation (torch.cat) - yêu cầu 1\n",
        "        x_cat = torch.cat([x2, x3], dim=1)  # 32x32x128\n",
        "\n",
        "        # Conv layers 4-6: Process concatenated features với BatchNorm\n",
        "        x = F.relu(self.bn4(self.conv4(x_cat)))  # 32x32x128\n",
        "        x = F.relu(self.bn5(self.conv5(x)))      # 32x32x128\n",
        "        x = F.relu(self.bn6(self.conv6(x)))      # 32x32x128\n",
        "\n",
        "        # First maxpool - yêu cầu 1/2\n",
        "        x = self.maxpool1(x)  # 16x16x128\n",
        "\n",
        "        # Conv layers 7-9: After first maxpool với BatchNorm\n",
        "        x = F.relu(self.bn7(self.conv7(x)))  # 16x16x256\n",
        "        x8 = F.relu(self.bn8(self.conv8(x)))  # 16x16x256\n",
        "        x9 = F.relu(self.bn9(self.conv9(x)))  # 16x16x256\n",
        "\n",
        "        # First addition operation - yêu cầu 1/2\n",
        "        x_add1 = x8 + x9  # 16x16x256\n",
        "\n",
        "        # Conv layers 10-12: For second addition với BatchNorm\n",
        "        x10 = F.relu(self.bn10(self.conv10(x_add1)))  # 16x16x256\n",
        "        x11 = F.relu(self.bn11(self.conv11(x_add1)))  # 16x16x256\n",
        "        x12 = F.relu(self.bn12(self.conv12(x_add1)))  # 16x16x256\n",
        "\n",
        "        # Second addition operation - yêu cầu 2/2\n",
        "        x_add2 = x11 + x12  # 16x16x256\n",
        "\n",
        "        # Second maxpool - yêu cầu 2/2\n",
        "        x = self.maxpool2(x_add2)  # 8x8x256\n",
        "\n",
        "        # Print size for debugging - REMOVED\n",
        "        # print(f\"Before flatten: {x.size()}\")\n",
        "\n",
        "        # Flatten\n",
        "        x = x.view(x.size(0), -1)  # Flatten to (batch_size, 256*8*8)\n",
        "\n",
        "        # Single fully connected layer - yêu cầu\n",
        "        x = self.fc(x)  # Output: 10 classes\n",
        "\n",
        "        return x\n",
        "\n",
        "\n",
        "# Create and test the model\n",
        "if __name__ == \"__main__\":\n",
        "    net = Model2()\n",
        "\n",
        "    # Move the network to the device if CUDA is available\n",
        "    device = torch.device(\"cuda:0\" if torch.cuda.is_available() else \"cpu\")\n",
        "    net.to(device)\n",
        "    print(f\"Using device: {device}\")\n",
        "\n",
        "    # Test with a sample input\n",
        "    sample_input = torch.randn(1, 3, 32, 32).to(device)\n",
        "    output = net(sample_input)\n",
        "    print(f\"Output shape: {output.shape}\")\n",
        "\n",
        "    # Print the number of parameters\n",
        "    num_params = sum(p.numel() for p in net.parameters() if p.requires_grad)\n",
        "    print(f\"Total number of trainable parameters: {num_params}\")\n",
        "\n",
        "    # Use torchsummary if available\n",
        "    try:\n",
        "        from torchsummary import summary\n",
        "        summary(net, (3, 32, 32))\n",
        "    except ImportError:\n",
        "        print(\"torchsummary not available. Install with: pip install torchsummary\")"
      ]
    },
    {
      "cell_type": "markdown",
      "metadata": {
        "id": "qlsp3-mYIpf3"
      },
      "source": [
        "3. Define a Loss function and optimizer\n",
        "^^^^^^^^^^^^^^^^^^^^^^^^^^^^^^^^^^^^^^^\n",
        "Let's use a Classification Cross-Entropy loss and SGD with momentum.\n",
        "\n"
      ]
    },
    {
      "cell_type": "code",
      "execution_count": 21,
      "metadata": {
        "id": "wM8BsJgSIpf4"
      },
      "outputs": [],
      "source": [
        "import torch.optim as optim\n",
        "\n",
        "criterion = nn.CrossEntropyLoss()\n",
        "optimizer = optim.SGD(net.parameters(), lr=0.001, momentum=0.9)"
      ]
    },
    {
      "cell_type": "markdown",
      "metadata": {
        "id": "waaJdan9Ipf5"
      },
      "source": [
        "4. Train the network\n",
        "^^^^^^^^^^^^^^^^^^^^\n",
        "\n",
        "This is when things start to get interesting.\n",
        "We simply have to loop over our data iterator, and feed the inputs to the\n",
        "network and optimize.\n",
        "\n"
      ]
    },
    {
      "cell_type": "code",
      "execution_count": null,
      "metadata": {
        "colab": {
          "base_uri": "https://localhost:8080/"
        },
        "id": "rDxIfphoIpf5",
        "outputId": "7a1c623a-04f5-44a5-aec3-e391344464eb"
      },
      "outputs": [
        {
          "output_type": "stream",
          "name": "stdout",
          "text": [
            "[1,  2000] loss: 5.531\n",
            "[1,  4000] loss: 1.973\n",
            "[1,  6000] loss: 1.816\n",
            "[1,  8000] loss: 1.698\n",
            "[1, 10000] loss: 1.626\n",
            "[1, 12000] loss: 1.529\n",
            "[2,  2000] loss: 1.454\n",
            "[2,  4000] loss: 1.403\n",
            "[2,  6000] loss: 1.319\n",
            "[2,  8000] loss: 1.276\n",
            "[2, 10000] loss: 1.217\n",
            "[2, 12000] loss: 1.152\n",
            "[3,  2000] loss: 1.080\n",
            "[3,  4000] loss: 1.030\n",
            "[3,  6000] loss: 1.027\n",
            "[3,  8000] loss: 0.931\n",
            "[3, 10000] loss: 0.941\n",
            "[3, 12000] loss: 0.908\n",
            "[4,  2000] loss: 0.820\n"
          ]
        }
      ],
      "source": [
        "for epoch in range(20):  # loop over the dataset multiple times\n",
        "\n",
        "    running_loss = 0.0\n",
        "    for i, data in enumerate(trainloader, 0):\n",
        "        # get the inputs\n",
        "        inputs, labels = data[0].to(device), data[1].to(device)\n",
        "\n",
        "        # zero the parameter gradients\n",
        "        optimizer.zero_grad()\n",
        "\n",
        "        # forward + backward + optimize\n",
        "        outputs = net(inputs)\n",
        "        loss = criterion(outputs, labels)\n",
        "        loss.backward()\n",
        "        optimizer.step()\n",
        "\n",
        "        # print statistics\n",
        "        running_loss += loss.item()\n",
        "        if i % 2000 == 1999:    # print every 2000 mini-batches\n",
        "            print('[%d, %5d] loss: %.3f' %\n",
        "                  (epoch + 1, i + 1, running_loss / 2000))\n",
        "            running_loss = 0.0\n",
        "\n",
        "print('Finished Training')"
      ]
    },
    {
      "cell_type": "markdown",
      "metadata": {
        "id": "wGkCVMVEIpf6"
      },
      "source": [
        "5. Test the network on the test data\n",
        "^^^^^^^^^^^^^^^^^^^^^^^^^^^^^^^^^^^^\n",
        "\n",
        "We have trained the network for 2 passes over the training dataset.\n",
        "But we need to check if the network has learnt anything at all.\n",
        "\n",
        "We will check this by predicting the class label that the neural network\n",
        "outputs, and checking it against the ground-truth. If the prediction is\n",
        "correct, we add the sample to the list of correct predictions.\n",
        "\n",
        "Okay, first step. Let us display an image from the test set to get familiar.\n",
        "\n"
      ]
    },
    {
      "cell_type": "code",
      "execution_count": null,
      "metadata": {
        "id": "qIrq7mtwIpf7"
      },
      "outputs": [],
      "source": [
        "dataiter = iter(testloader)\n",
        "images, labels = dataiter.next()\n",
        "\n",
        "# print images\n",
        "imshow(torchvision.utils.make_grid(images))\n",
        "print('GroundTruth: ', ' '.join('%5s' % classes[labels[j]] for j in range(4)))"
      ]
    },
    {
      "cell_type": "markdown",
      "metadata": {
        "id": "ItebdjDVIpf_"
      },
      "source": [
        "Okay, now let us see what the neural network thinks these examples above are:\n",
        "\n"
      ]
    },
    {
      "cell_type": "code",
      "execution_count": null,
      "metadata": {
        "id": "V65LB1SnIpgA"
      },
      "outputs": [],
      "source": [
        "outputs = net(images)"
      ]
    },
    {
      "cell_type": "markdown",
      "metadata": {
        "id": "aMKkbslwIpgB"
      },
      "source": [
        "The outputs are energies for the 10 classes.\n",
        "Higher the energy for a class, the more the network\n",
        "thinks that the image is of the particular class.\n",
        "So, let's get the index of the highest energy:\n",
        "\n"
      ]
    },
    {
      "cell_type": "code",
      "execution_count": null,
      "metadata": {
        "id": "INMIp3a4IpgB"
      },
      "outputs": [],
      "source": [
        "_, predicted = torch.max(outputs, 1)\n",
        "\n",
        "print('Predicted: ', ' '.join('%5s' % classes[predicted[j]]\n",
        "                              for j in range(4)))"
      ]
    },
    {
      "cell_type": "markdown",
      "metadata": {
        "id": "Fp2Yg7x3IpgC"
      },
      "source": [
        "The results seem pretty good.\n",
        "\n",
        "Let us look at how the network performs on the whole dataset.\n",
        "\n"
      ]
    },
    {
      "cell_type": "code",
      "execution_count": null,
      "metadata": {
        "id": "ftnUsr7CIpgC"
      },
      "outputs": [],
      "source": [
        "correct = 0\n",
        "total = 0\n",
        "with torch.no_grad():\n",
        "    for data in testloader:\n",
        "        images, labels = data\n",
        "        outputs = net(images)\n",
        "        _, predicted = torch.max(outputs.data, 1)\n",
        "        total += labels.size(0)\n",
        "        correct += (predicted == labels).sum().item()\n",
        "\n",
        "print('Accuracy of the network on the 10000 test images: %d %%' % (\n",
        "    100 * correct / total))"
      ]
    },
    {
      "cell_type": "markdown",
      "metadata": {
        "id": "rVmZ_eLYIpgF"
      },
      "source": [
        "That looks waaay better than chance, which is 10% accuracy (randomly picking\n",
        "a class out of 10 classes).\n",
        "Seems like the network learnt something.\n",
        "\n",
        "Hmmm, what are the classes that performed well, and the classes that did\n",
        "not perform well:\n",
        "\n"
      ]
    },
    {
      "cell_type": "code",
      "execution_count": null,
      "metadata": {
        "id": "MSNm-MuzIpgF"
      },
      "outputs": [],
      "source": [
        "class_correct = list(0. for i in range(10))\n",
        "class_total = list(0. for i in range(10))\n",
        "with torch.no_grad():\n",
        "    for data in testloader:\n",
        "        images, labels = data\n",
        "        outputs = net(images)\n",
        "        _, predicted = torch.max(outputs, 1)\n",
        "        c = (predicted == labels).squeeze()\n",
        "        for i in range(4):\n",
        "            label = labels[i]\n",
        "            class_correct[label] += c[i].item()\n",
        "            class_total[label] += 1\n",
        "\n",
        "\n",
        "for i in range(10):\n",
        "    print('Accuracy of %5s : %2d %%' % (\n",
        "        classes[i], 100 * class_correct[i] / class_total[i]))"
      ]
    },
    {
      "cell_type": "markdown",
      "metadata": {
        "id": "0EAGTvCbIpgG"
      },
      "source": [
        "Okay, so what next?\n",
        "\n",
        "How do we run these neural networks on the GPU?\n",
        "\n",
        "Training on GPU\n",
        "----------------\n",
        "Just like how you transfer a Tensor on to the GPU, you transfer the neural\n",
        "net onto the GPU.\n",
        "\n",
        "Let's first define our device as the first visible cuda device if we have\n",
        "CUDA available:\n",
        "\n"
      ]
    },
    {
      "cell_type": "code",
      "execution_count": null,
      "metadata": {
        "id": "hM9AXGwfIpgH"
      },
      "outputs": [],
      "source": [
        "device = torch.device(\"cuda:0\" if torch.cuda.is_available() else \"cpu\")\n",
        "\n",
        "# Assume that we are on a CUDA machine, then this should print a CUDA device:\n",
        "\n",
        "print(device)"
      ]
    },
    {
      "cell_type": "markdown",
      "metadata": {
        "id": "yut0En0JIpgI"
      },
      "source": [
        "The rest of this section assumes that `device` is a CUDA device.\n",
        "\n",
        "Then these methods will recursively go over all modules and convert their\n",
        "parameters and buffers to CUDA tensors:\n",
        "\n",
        ".. code:: python\n",
        "\n",
        "    net.to(device)\n",
        "\n",
        "\n",
        "Remember that you will have to send the inputs and targets at every step\n",
        "to the GPU too:\n",
        "\n",
        ".. code:: python\n",
        "\n",
        "        inputs, labels = inputs.to(device), labels.to(device)\n",
        "\n",
        "Why dont I notice MASSIVE speedup compared to CPU? Because your network\n",
        "is realllly small.\n",
        "\n",
        "**Exercise:** Try increasing the width of your network (argument 2 of\n",
        "the first ``nn.Conv2d``, and argument 1 of the second ``nn.Conv2d`` –\n",
        "they need to be the same number), see what kind of speedup you get.\n",
        "\n",
        "**Goals achieved**:\n",
        "\n",
        "- Understanding PyTorch's Tensor library and neural networks at a high level.\n",
        "- Train a small neural network to classify images\n",
        "\n",
        "Training on multiple GPUs\n",
        "-------------------------\n",
        "If you want to see even more MASSIVE speedup using all of your GPUs,\n",
        "please check out :doc:`data_parallel_tutorial`.\n",
        "\n",
        "Where do I go next?\n",
        "-------------------\n",
        "\n",
        "-  :doc:`Train neural nets to play video games </intermediate/reinforcement_q_learning>`\n",
        "-  `Train a state-of-the-art ResNet network on imagenet`_\n",
        "-  `Train a face generator using Generative Adversarial Networks`_\n",
        "-  `Train a word-level language model using Recurrent LSTM networks`_\n",
        "-  `More examples`_\n",
        "-  `More tutorials`_\n",
        "-  `Discuss PyTorch on the Forums`_\n",
        "-  `Chat with other users on Slack`_\n",
        "\n",
        "\n"
      ]
    }
  ],
  "metadata": {
    "kernelspec": {
      "display_name": "Python 3",
      "language": "python",
      "name": "python3"
    },
    "language_info": {
      "codemirror_mode": {
        "name": "ipython",
        "version": 3
      },
      "file_extension": ".py",
      "mimetype": "text/x-python",
      "name": "python",
      "nbconvert_exporter": "python",
      "pygments_lexer": "ipython3",
      "version": "3.6.6"
    },
    "colab": {
      "provenance": []
    }
  },
  "nbformat": 4,
  "nbformat_minor": 0
}