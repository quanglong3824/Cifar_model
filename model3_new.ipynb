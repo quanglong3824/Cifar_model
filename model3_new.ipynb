{
  "cells": [
    {
      "cell_type": "code",
      "execution_count": 1,
      "metadata": {
        "id": "eaDyGo97oRK4"
      },
      "outputs": [],
      "source": [
        "%matplotlib inline"
      ]
    },
    {
      "cell_type": "markdown",
      "metadata": {
        "id": "J2XMBI-poRK8"
      },
      "source": [
        "\n",
        "Training a Classifier\n",
        "=====================\n",
        "\n",
        "This is it. You have seen how to define neural networks, compute loss and make\n",
        "updates to the weights of the network.\n",
        "\n",
        "Now you might be thinking,\n",
        "\n",
        "What about data?\n",
        "----------------\n",
        "\n",
        "Generally, when you have to deal with image, text, audio or video data,\n",
        "you can use standard python packages that load data into a numpy array.\n",
        "Then you can convert this array into a ``torch.*Tensor``.\n",
        "\n",
        "-  For images, packages such as Pillow, OpenCV are useful\n",
        "-  For audio, packages such as scipy and librosa\n",
        "-  For text, either raw Python or Cython based loading, or NLTK and\n",
        "   SpaCy are useful\n",
        "\n",
        "Specifically for vision, we have created a package called\n",
        "``torchvision``, that has data loaders for common datasets such as\n",
        "Imagenet, CIFAR10, MNIST, etc. and data transformers for images, viz.,\n",
        "``torchvision.datasets`` and ``torch.utils.data.DataLoader``.\n",
        "\n",
        "This provides a huge convenience and avoids writing boilerplate code.\n",
        "\n",
        "For this tutorial, we will use the CIFAR10 dataset.\n",
        "It has the classes: ‘airplane’, ‘automobile’, ‘bird’, ‘cat’, ‘deer’,\n",
        "‘dog’, ‘frog’, ‘horse’, ‘ship’, ‘truck’. The images in CIFAR-10 are of\n",
        "size 3x32x32, i.e. 3-channel color images of 32x32 pixels in size.\n",
        "\n",
        ".. figure:: /_static/img/cifar10.png\n",
        "   :alt: cifar10\n",
        "\n",
        "   cifar10\n",
        "\n",
        "\n",
        "Training an image classifier\n",
        "----------------------------\n",
        "\n",
        "We will do the following steps in order:\n",
        "\n",
        "1. Load and normalizing the CIFAR10 training and test datasets using\n",
        "   ``torchvision``\n",
        "2. Define a Convolution Neural Network\n",
        "3. Define a loss function\n",
        "4. Train the network on the training data\n",
        "5. Test the network on the test data\n",
        "\n",
        "1. Loading and normalizing CIFAR10\n",
        "^^^^^^^^^^^^^^^^^^^^^^^^^^^^^^^^^^\n",
        "\n",
        "Using ``torchvision``, it’s extremely easy to load CIFAR10.\n",
        "\n"
      ]
    },
    {
      "cell_type": "code",
      "execution_count": 2,
      "metadata": {
        "id": "AVU3c7fmoRLB"
      },
      "outputs": [],
      "source": [
        "import torch\n",
        "import torchvision\n",
        "import torchvision.transforms as transforms"
      ]
    },
    {
      "cell_type": "markdown",
      "metadata": {
        "id": "dTN6LrHPoRLC"
      },
      "source": [
        "The output of torchvision datasets are PILImage images of range [0, 1].\n",
        "We transform them to Tensors of normalized range [-1, 1].\n",
        "\n"
      ]
    },
    {
      "cell_type": "code",
      "execution_count": 3,
      "metadata": {
        "colab": {
          "base_uri": "https://localhost:8080/"
        },
        "id": "7mvJp7-KoRLD",
        "outputId": "4bb3adfc-1442-4880-ec51-1222889ac7d7"
      },
      "outputs": [
        {
          "output_type": "stream",
          "name": "stderr",
          "text": [
            "100%|██████████| 170M/170M [00:04<00:00, 42.3MB/s]\n"
          ]
        }
      ],
      "source": [
        "transform = transforms.Compose(\n",
        "    [transforms.ToTensor(),\n",
        "     transforms.Normalize((0.5, 0.5, 0.5), (0.5, 0.5, 0.5))])\n",
        "\n",
        "trainset = torchvision.datasets.CIFAR10(root='./data', train=True,\n",
        "                                        download=True, transform=transform)\n",
        "trainloader = torch.utils.data.DataLoader(trainset, batch_size=4,\n",
        "                                          shuffle=True, num_workers=2)\n",
        "\n",
        "testset = torchvision.datasets.CIFAR10(root='./data', train=False,\n",
        "                                       download=True, transform=transform)\n",
        "testloader = torch.utils.data.DataLoader(testset, batch_size=4,\n",
        "                                         shuffle=False, num_workers=2)\n",
        "\n",
        "classes = ('plane', 'car', 'bird', 'cat',\n",
        "           'deer', 'dog', 'frog', 'horse', 'ship', 'truck')"
      ]
    },
    {
      "cell_type": "markdown",
      "metadata": {
        "id": "_kAsRpU4oRLE"
      },
      "source": [
        "Let us show some of the training images, for fun.\n",
        "\n"
      ]
    },
    {
      "cell_type": "code",
      "execution_count": 5,
      "metadata": {
        "colab": {
          "base_uri": "https://localhost:8080/",
          "height": 209
        },
        "id": "b6BANh3ZoRLF",
        "outputId": "4877fd08-76fd-4ce9-a6a2-84823f189b09"
      },
      "outputs": [
        {
          "output_type": "stream",
          "name": "stdout",
          "text": [
            "  dog horse   car  deer\n"
          ]
        },
        {
          "output_type": "display_data",
          "data": {
            "text/plain": [
              "<Figure size 640x480 with 1 Axes>"
            ],
            "image/png": "[encoded data removed]"
          },
          "metadata": {}
        }
      ],
      "source": [
        "import matplotlib.pyplot as plt\n",
        "import numpy as np\n",
        "\n",
        "# functions to show an image\n",
        "\n",
        "\n",
        "def imshow(img):\n",
        "    img = img / 2 + 0.5     # unnormalize\n",
        "    npimg = img.numpy()\n",
        "    plt.imshow(np.transpose(npimg, (1, 2, 0)))\n",
        "\n",
        "\n",
        "# get some random training images\n",
        "dataiter = iter(trainloader)\n",
        "# images, labels = dataiter.next() # This is outdated\n",
        "images, labels = next(dataiter) # Use the standard next() function\n",
        "\n",
        "# show images\n",
        "imshow(torchvision.utils.make_grid(images))\n",
        "# print labels\n",
        "print(' '.join('%5s' % classes[labels[j]] for j in range(4)))"
      ]
    },
    {
      "cell_type": "markdown",
      "metadata": {
        "id": "W9s5sIffoRLG"
      },
      "source": [
        "2. Define a Convolution Neural Network\n",
        "^^^^^^^^^^^^^^^^^^^^^^^^^^^^^^^^^^^^^^\n",
        "Copy the neural network from the Neural Networks section before and modify it to\n",
        "take 3-channel images (instead of 1-channel images as it was defined).\n",
        "\n"
      ]
    },
    {
      "cell_type": "code",
      "execution_count": 9,
      "metadata": {
        "colab": {
          "base_uri": "https://localhost:8080/"
        },
        "id": "QUShPr2toRLH",
        "outputId": "3ea39024-3735-430f-aa2e-c9d7c533f689"
      },
      "outputs": [
        {
          "output_type": "stream",
          "name": "stdout",
          "text": [
            "Model 3 Architecture Summary:\n",
            "======================================================================\n",
            "Layer                     Output Shape         Param #        \n",
            "======================================================================\n",
            "conv1                                                 2,432\n",
            "bn1                                                      64\n",
            "conv2                                                25,632\n",
            "bn2                                                      64\n",
            "conv3                                                25,632\n",
            "bn3                                                      64\n",
            "conv4                                                18,496\n",
            "bn4                                                     128\n",
            "conv5                                                18,496\n",
            "bn5                                                     128\n",
            "conv6                                                18,496\n",
            "bn6                                                     128\n",
            "conv7                                                18,496\n",
            "bn7                                                     128\n",
            "conv8                                               204,864\n",
            "bn8                                                     128\n",
            "conv9                                                73,856\n",
            "bn9                                                     256\n",
            "conv10                                               73,856\n",
            "bn10                                                    256\n",
            "conv11                                               73,856\n",
            "bn11                                                    256\n",
            "conv12                                               73,792\n",
            "bn12                                                    128\n",
            "conv13                                              409,728\n",
            "bn13                                                    256\n",
            "conv14                                              295,168\n",
            "bn14                                                    512\n",
            "conv15                                              295,168\n",
            "bn15                                                    512\n",
            "conv16                                              590,080\n",
            "bn16                                                    512\n",
            "conv17                                            1,638,656\n",
            "bn17                                                    512\n",
            "conv18                                            1,638,656\n",
            "bn18                                                    512\n",
            "conv19                                            1,638,656\n",
            "bn19                                                    512\n",
            "conv20                                            1,638,656\n",
            "bn20                                                    512\n",
            "conv21                                            1,638,656\n",
            "bn21                                                    512\n",
            "conv22                                            1,638,656\n",
            "bn22                                                    512\n",
            "conv23                                              590,080\n",
            "bn23                                                    512\n",
            "conv24                                              590,080\n",
            "bn24                                                    512\n",
            "conv25                                              590,080\n",
            "bn25                                                    512\n",
            "conv26                                              590,080\n",
            "bn26                                                    512\n",
            "fc1                                                 131,584\n",
            "fc2                                                   5,130\n",
            "======================================================================\n",
            "Total params: 14,555,658\n",
            "Trainable params: 14,555,658\n",
            "Non-trainable params: 0\n",
            "Total params (M): 14.56M\n",
            "======================================================================\n",
            "\n",
            "Layer Count Verification:\n",
            "Conv3x3 layers: 15 (required: ≥10)\n",
            "Conv5x5 layers: 11 (required: ≥10)\n",
            "MaxPool layers: 2 (required: 2)\n",
            "torch.cat operations: 2 (implemented in forward)\n",
            "Tensor additions: 2 (implemented in forward)\n",
            "Fully Connected layers: 2 (required: exactly 2)\n",
            "\n",
            "Parameter Count Verification:\n",
            "Total parameters: 14,555,658 (14.56M)\n",
            "Target range: 10M-20M (optimal: 17-19.5M)\n",
            "✅ Parameter count is within the required range!\n",
            "\n",
            "Forward pass test:\n",
            "Input shape: torch.Size([1, 3, 32, 32])\n",
            "Output shape: torch.Size([1, 10])\n",
            "✅ Forward pass successful!\n"
          ]
        }
      ],
      "source": [
        "import torch\n",
        "import torch.nn as nn\n",
        "import torch.nn.functional as F\n",
        "\n",
        "\n",
        "class Net(nn.Module):\n",
        "    def __init__(self):\n",
        "        super(Net, self).__init__()\n",
        "\n",
        "        # Input layer - 3 channels (RGB)\n",
        "        # First row of conv layers\n",
        "        self.conv1 = nn.Conv2d(in_channels=3, out_channels=32, kernel_size=5, padding=2, stride=1)  # conv 5x5\n",
        "        self.bn1 = nn.BatchNorm2d(32)\n",
        "\n",
        "        self.conv2 = nn.Conv2d(in_channels=32, out_channels=32, kernel_size=5, padding=2, stride=1)  # conv 5x5\n",
        "        self.bn2 = nn.BatchNorm2d(32)\n",
        "\n",
        "        self.conv3 = nn.Conv2d(in_channels=32, out_channels=32, kernel_size=5, padding=2, stride=1)  # conv 5x5\n",
        "        self.bn3 = nn.BatchNorm2d(32)\n",
        "\n",
        "        # MaxPool1 - First maxpooling layer\n",
        "        self.maxpool1 = nn.MaxPool2d(2, 2)\n",
        "\n",
        "        # Second row of conv layers\n",
        "        self.conv4 = nn.Conv2d(in_channels=32, out_channels=64, kernel_size=3, padding=1, stride=1)  # conv 3x3\n",
        "        self.bn4 = nn.BatchNorm2d(64)\n",
        "\n",
        "        self.conv5 = nn.Conv2d(in_channels=32, out_channels=64, kernel_size=3, padding=1, stride=1)  # conv 3x3\n",
        "        self.bn5 = nn.BatchNorm2d(64)\n",
        "\n",
        "        self.conv6 = nn.Conv2d(in_channels=32, out_channels=64, kernel_size=3, padding=1, stride=1)  # conv 3x3\n",
        "        self.bn6 = nn.BatchNorm2d(64)\n",
        "\n",
        "        self.conv7 = nn.Conv2d(in_channels=32, out_channels=64, kernel_size=3, padding=1, stride=1)  # conv 3x3\n",
        "        self.bn7 = nn.BatchNorm2d(64)\n",
        "\n",
        "        self.conv8 = nn.Conv2d(in_channels=128, out_channels=64, kernel_size=5, padding=2, stride=1)  # conv 5x5\n",
        "        self.bn8 = nn.BatchNorm2d(64)\n",
        "\n",
        "        # MaxPool2 - Second maxpooling layer\n",
        "        self.maxpool2 = nn.MaxPool2d(2, 2)\n",
        "\n",
        "        # Third row of conv layers\n",
        "        self.conv9 = nn.Conv2d(in_channels=64, out_channels=128, kernel_size=3, padding=1, stride=1)  # conv 3x3\n",
        "        self.bn9 = nn.BatchNorm2d(128)\n",
        "\n",
        "        self.conv10 = nn.Conv2d(in_channels=64, out_channels=128, kernel_size=3, padding=1, stride=1)  # conv 3x3\n",
        "        self.bn10 = nn.BatchNorm2d(128)\n",
        "\n",
        "        self.conv11 = nn.Conv2d(in_channels=64, out_channels=128, kernel_size=3, padding=1, stride=1)  # conv 3x3\n",
        "        self.bn11 = nn.BatchNorm2d(128)\n",
        "\n",
        "        # Fourth row - Additional conv layers\n",
        "        self.conv12 = nn.Conv2d(in_channels=128, out_channels=64, kernel_size=3, padding=1, stride=1)  # conv 3x3\n",
        "        self.bn12 = nn.BatchNorm2d(64)\n",
        "\n",
        "        self.conv13 = nn.Conv2d(in_channels=128, out_channels=128, kernel_size=5, padding=2, stride=1)  # conv 5x5\n",
        "        self.bn13 = nn.BatchNorm2d(128)\n",
        "\n",
        "        # Fifth row - More conv layers\n",
        "        self.conv14 = nn.Conv2d(in_channels=128, out_channels=256, kernel_size=3, padding=1, stride=1)  # conv 3x3\n",
        "        self.bn14 = nn.BatchNorm2d(256)\n",
        "\n",
        "        self.conv15 = nn.Conv2d(in_channels=128, out_channels=256, kernel_size=3, padding=1, stride=1)  # conv 3x3\n",
        "        self.bn15 = nn.BatchNorm2d(256)\n",
        "\n",
        "        self.conv16 = nn.Conv2d(in_channels=256, out_channels=256, kernel_size=3, padding=1, stride=1)  # conv 3x3\n",
        "        self.bn16 = nn.BatchNorm2d(256)\n",
        "\n",
        "        # Sixth row - Additional conv layers for requirements\n",
        "        self.conv17 = nn.Conv2d(in_channels=256, out_channels=256, kernel_size=5, padding=2, stride=1)  # conv 5x5\n",
        "        self.bn17 = nn.BatchNorm2d(256)\n",
        "\n",
        "        self.conv18 = nn.Conv2d(in_channels=256, out_channels=256, kernel_size=5, padding=2, stride=1)  # conv 5x5\n",
        "        self.bn18 = nn.BatchNorm2d(256)\n",
        "\n",
        "        # Seventh row - Final conv layers\n",
        "        self.conv19 = nn.Conv2d(in_channels=256, out_channels=256, kernel_size=5, padding=2, stride=1)  # conv 5x5\n",
        "        self.bn19 = nn.BatchNorm2d(256)\n",
        "\n",
        "        self.conv20 = nn.Conv2d(in_channels=256, out_channels=256, kernel_size=5, padding=2, stride=1)  # conv 5x5\n",
        "        self.bn20 = nn.BatchNorm2d(256)\n",
        "\n",
        "        self.conv21 = nn.Conv2d(in_channels=256, out_channels=256, kernel_size=5, padding=2, stride=1)  # conv 5x5\n",
        "        self.bn21 = nn.BatchNorm2d(256)\n",
        "\n",
        "        self.conv22 = nn.Conv2d(in_channels=256, out_channels=256, kernel_size=5, padding=2, stride=1)  # conv 5x5\n",
        "        self.bn22 = nn.BatchNorm2d(256)\n",
        "\n",
        "        # Bottom row - Final processing layers\n",
        "        self.conv23 = nn.Conv2d(in_channels=256, out_channels=256, kernel_size=3, padding=1, stride=1)  # conv 3x3\n",
        "        self.bn23 = nn.BatchNorm2d(256)\n",
        "\n",
        "        self.conv24 = nn.Conv2d(in_channels=256, out_channels=256, kernel_size=3, padding=1, stride=1)  # conv 3x3\n",
        "        self.bn24 = nn.BatchNorm2d(256)\n",
        "\n",
        "        self.conv25 = nn.Conv2d(in_channels=256, out_channels=256, kernel_size=3, padding=1, stride=1)  # conv 3x3\n",
        "        self.bn25 = nn.BatchNorm2d(256)\n",
        "\n",
        "        self.conv26 = nn.Conv2d(in_channels=256, out_channels=256, kernel_size=3, padding=1, stride=1)  # conv 3x3\n",
        "        self.bn26 = nn.BatchNorm2d(256)\n",
        "\n",
        "        # Global Average Pooling to reduce spatial dimensions\n",
        "        self.global_avg_pool = nn.AdaptiveAvgPool2d((1, 1))\n",
        "\n",
        "        # Fully Connected Layers (exactly 2 as required)\n",
        "        self.fc1 = nn.Linear(256, 512)\n",
        "        self.fc2 = nn.Linear(512, 10)\n",
        "\n",
        "        # Dropout for regularization\n",
        "        self.dropout = nn.Dropout(0.5)\n",
        "\n",
        "    def forward(self, x):\n",
        "        # First row processing\n",
        "        x = F.relu(self.bn1(self.conv1(x)))  # 32x32x32\n",
        "        x = F.relu(self.bn2(self.conv2(x)))  # 32x32x32\n",
        "        x = F.relu(self.bn3(self.conv3(x)))  # 32x32x32\n",
        "\n",
        "        # First maxpooling\n",
        "        x = self.maxpool1(x)  # 16x16x32\n",
        "\n",
        "        # Second row processing with parallel paths\n",
        "        x1 = F.relu(self.bn4(self.conv4(x)))  # 16x16x64\n",
        "        x2 = F.relu(self.bn5(self.conv5(x)))  # 16x16x64\n",
        "        x3 = F.relu(self.bn6(self.conv6(x)))  # 16x16x64\n",
        "        x4 = F.relu(self.bn7(self.conv7(x)))  # 16x16x64\n",
        "\n",
        "        # First concatenation (torch.cat #1)\n",
        "        x_cat1 = torch.cat((x1, x2), dim=1)  # 16x16x128\n",
        "\n",
        "        x5 = F.relu(self.bn8(self.conv8(x_cat1)))  # 16x16x64\n",
        "\n",
        "        # Second maxpooling\n",
        "        x_pool = self.maxpool2(x5)  # 8x8x64\n",
        "\n",
        "        # Third row processing\n",
        "        x6 = F.relu(self.bn9(self.conv9(x_pool)))   # 8x8x128\n",
        "        x7 = F.relu(self.bn10(self.conv10(x_pool))) # 8x8x128\n",
        "        x8 = F.relu(self.bn11(self.conv11(x_pool))) # 8x8x128\n",
        "\n",
        "        # First tensor addition\n",
        "        x_add1 = x6 + x7  # 8x8x128\n",
        "\n",
        "        # Fourth row processing\n",
        "        x9 = F.relu(self.bn12(self.conv12(x_add1)))  # 8x8x64\n",
        "        x10 = F.relu(self.bn13(self.conv13(x8)))     # 8x8x128\n",
        "\n",
        "        # Second concatenation (torch.cat #2)\n",
        "        x_cat2 = torch.cat((x9, x10), dim=1)  # 8x8x192\n",
        "\n",
        "        # Fifth row processing\n",
        "        x11 = F.relu(self.bn14(self.conv14(x10)))  # 8x8x256\n",
        "        x12 = F.relu(self.bn15(self.conv15(x10)))  # 8x8x256\n",
        "        x13 = F.relu(self.bn16(self.conv16(x11)))  # 8x8x256\n",
        "\n",
        "        # Second tensor addition\n",
        "        x_add2 = x11 + x12  # 8x8x256\n",
        "\n",
        "        # Sixth row processing\n",
        "        x14 = F.relu(self.bn17(self.conv17(x_add2)))  # 8x8x256\n",
        "        x15 = F.relu(self.bn18(self.conv18(x13)))     # 8x8x256\n",
        "\n",
        "        # Seventh row processing\n",
        "        x16 = F.relu(self.bn19(self.conv19(x14)))  # 8x8x256\n",
        "        x17 = F.relu(self.bn20(self.conv20(x15)))  # 8x8x256\n",
        "        x18 = F.relu(self.bn21(self.conv21(x16)))  # 8x8x256\n",
        "        x19 = F.relu(self.bn22(self.conv22(x17)))  # 8x8x256\n",
        "\n",
        "        # Bottom row processing\n",
        "        x20 = F.relu(self.bn23(self.conv23(x18)))  # 8x8x256\n",
        "        x21 = F.relu(self.bn24(self.conv24(x19)))  # 8x8x256\n",
        "        x22 = F.relu(self.bn25(self.conv25(x20)))  # 8x8x256\n",
        "        x23 = F.relu(self.bn26(self.conv26(x21)))  # 8x8x256\n",
        "\n",
        "        # Global average pooling\n",
        "        x = self.global_avg_pool(x23)  # 1x1x256\n",
        "        x = x.view(x.size(0), -1)      # Flatten to 256\n",
        "\n",
        "        # Fully connected layers (exactly 2 as required)\n",
        "        x = F.relu(self.fc1(x))        # 512\n",
        "        x = self.dropout(x)\n",
        "        x = self.fc2(x)                # 10 (output classes)\n",
        "\n",
        "        return x\n",
        "\n",
        "\n",
        "# Custom parameter counter function\n",
        "def count_parameters(model):\n",
        "    total_params = 0\n",
        "    trainable_params = 0\n",
        "\n",
        "    print(\"Model 3 Architecture Summary:\")\n",
        "    print(\"=\" * 70)\n",
        "    print(f\"{'Layer':<25} {'Output Shape':<20} {'Param #':<15}\")\n",
        "    print(\"=\" * 70)\n",
        "\n",
        "    for name, module in model.named_modules():\n",
        "        if len(list(module.children())) == 0:  # Only leaf modules\n",
        "            params = sum(p.numel() for p in module.parameters())\n",
        "            trainable = sum(p.numel() for p in module.parameters() if p.requires_grad)\n",
        "            total_params += params\n",
        "            trainable_params += trainable\n",
        "\n",
        "            if params > 0:\n",
        "                print(f\"{name:<25} {'':<20} {params:>12,}\")\n",
        "\n",
        "    print(\"=\" * 70)\n",
        "    print(f\"Total params: {total_params:,}\")\n",
        "    print(f\"Trainable params: {trainable_params:,}\")\n",
        "    print(f\"Non-trainable params: {total_params - trainable_params:,}\")\n",
        "    print(f\"Total params (M): {total_params / 1_000_000:.2f}M\")\n",
        "    print(\"=\" * 70)\n",
        "\n",
        "    return total_params\n",
        "\n",
        "\n",
        "# Create model instance and print summary\n",
        "if __name__ == \"__main__\":\n",
        "    net = Net()\n",
        "\n",
        "    # Count parameters\n",
        "    total_params = count_parameters(net)\n",
        "\n",
        "    # Count conv3x3 and conv5x5 layers\n",
        "    conv3x3_count = 0\n",
        "    conv5x5_count = 0\n",
        "    maxpool_count = 0\n",
        "    fc_count = 0\n",
        "\n",
        "    for name, module in net.named_modules():\n",
        "        if isinstance(module, nn.Conv2d):\n",
        "            if module.kernel_size == (3, 3):\n",
        "                conv3x3_count += 1\n",
        "            elif module.kernel_size == (5, 5):\n",
        "                conv5x5_count += 1\n",
        "        elif isinstance(module, nn.MaxPool2d):\n",
        "            maxpool_count += 1\n",
        "        elif isinstance(module, nn.Linear):\n",
        "            fc_count += 1\n",
        "\n",
        "    print(f\"\\nLayer Count Verification:\")\n",
        "    print(f\"Conv3x3 layers: {conv3x3_count} (required: ≥10)\")\n",
        "    print(f\"Conv5x5 layers: {conv5x5_count} (required: ≥10)\")\n",
        "    print(f\"MaxPool layers: {maxpool_count} (required: 2)\")\n",
        "    print(f\"torch.cat operations: 2 (implemented in forward)\")\n",
        "    print(f\"Tensor additions: 2 (implemented in forward)\")\n",
        "    print(f\"Fully Connected layers: {fc_count} (required: exactly 2)\")\n",
        "\n",
        "    print(f\"\\nParameter Count Verification:\")\n",
        "    print(f\"Total parameters: {total_params:,} ({total_params/1_000_000:.2f}M)\")\n",
        "    print(f\"Target range: 10M-20M (optimal: 17-19.5M)\")\n",
        "\n",
        "    if 10_000_000 <= total_params <= 20_000_000:\n",
        "        print(\"✅ Parameter count is within the required range!\")\n",
        "        if 17_000_000 <= total_params <= 19_500_000:\n",
        "            print(\"✅ Parameter count is in the optimal range!\")\n",
        "    else:\n",
        "        print(\"❌ Parameter count is outside the required range!\")\n",
        "\n",
        "    # Test forward pass\n",
        "    try:\n",
        "        test_input = torch.randn(1, 3, 32, 32)\n",
        "        output = net(test_input)\n",
        "        print(f\"\\nForward pass test:\")\n",
        "        print(f\"Input shape: {test_input.shape}\")\n",
        "        print(f\"Output shape: {output.shape}\")\n",
        "        print(\"✅ Forward pass successful!\")\n",
        "    except Exception as e:\n",
        "        print(f\"❌ Forward pass failed: {e}\")"
      ]
    },
    {
      "cell_type": "markdown",
      "metadata": {
        "id": "qPxq4h6coRLI"
      },
      "source": [
        "3. Define a Loss function and optimizer\n",
        "^^^^^^^^^^^^^^^^^^^^^^^^^^^^^^^^^^^^^^^\n",
        "Let's use a Classification Cross-Entropy loss and SGD with momentum.\n",
        "\n"
      ]
    },
    {
      "cell_type": "code",
      "execution_count": 10,
      "metadata": {
        "id": "vRVGt2e_oRLJ"
      },
      "outputs": [],
      "source": [
        "import torch.optim as optim\n",
        "\n",
        "criterion = nn.CrossEntropyLoss()\n",
        "optimizer = optim.SGD(net.parameters(), lr=0.001, momentum=0.9)"
      ]
    },
    {
      "cell_type": "markdown",
      "metadata": {
        "id": "p3qpBIufoRLL"
      },
      "source": [
        "4. Train the network\n",
        "^^^^^^^^^^^^^^^^^^^^\n",
        "\n",
        "This is when things start to get interesting.\n",
        "We simply have to loop over our data iterator, and feed the inputs to the\n",
        "network and optimize.\n",
        "\n"
      ]
    },
    {
      "cell_type": "code",
      "execution_count": null,
      "metadata": {
        "id": "zMvsbUR5oRLL"
      },
      "outputs": [],
      "source": [
        "for epoch in range(20):  # loop over the dataset multiple times\n",
        "\n",
        "    running_loss = 0.0\n",
        "    for i, data in enumerate(trainloader, 0):\n",
        "        # get the inputs\n",
        "        inputs, labels = data\n",
        "\n",
        "        # zero the parameter gradients\n",
        "        optimizer.zero_grad()\n",
        "\n",
        "        # forward + backward + optimize\n",
        "        outputs = net(inputs)\n",
        "        loss = criterion(outputs, labels)\n",
        "        loss.backward()\n",
        "        optimizer.step()\n",
        "\n",
        "        # print statistics\n",
        "        running_loss += loss.item()\n",
        "        if i % 2000 == 1999:    # print every 2000 mini-batches\n",
        "            print('[%d, %5d] loss: %.3f' %\n",
        "                  (epoch + 1, i + 1, running_loss / 2000))\n",
        "            running_loss = 0.0\n",
        "\n",
        "print('Finished Training')"
      ]
    },
    {
      "cell_type": "markdown",
      "metadata": {
        "id": "tpabPzAeoRLM"
      },
      "source": [
        "5. Test the network on the test data\n",
        "^^^^^^^^^^^^^^^^^^^^^^^^^^^^^^^^^^^^\n",
        "\n",
        "We have trained the network for 2 passes over the training dataset.\n",
        "But we need to check if the network has learnt anything at all.\n",
        "\n",
        "We will check this by predicting the class label that the neural network\n",
        "outputs, and checking it against the ground-truth. If the prediction is\n",
        "correct, we add the sample to the list of correct predictions.\n",
        "\n",
        "Okay, first step. Let us display an image from the test set to get familiar.\n",
        "\n"
      ]
    },
    {
      "cell_type": "code",
      "execution_count": null,
      "metadata": {
        "id": "ss9loDcAoRLO"
      },
      "outputs": [],
      "source": [
        "dataiter = iter(testloader)\n",
        "images, labels = dataiter.next()\n",
        "\n",
        "# print images\n",
        "imshow(torchvision.utils.make_grid(images))\n",
        "print('GroundTruth: ', ' '.join('%5s' % classes[labels[j]] for j in range(4)))"
      ]
    },
    {
      "cell_type": "markdown",
      "metadata": {
        "id": "eDx3-6h4oRLP"
      },
      "source": [
        "Okay, now let us see what the neural network thinks these examples above are:\n",
        "\n"
      ]
    },
    {
      "cell_type": "code",
      "execution_count": null,
      "metadata": {
        "id": "FeobX6HCoRLP"
      },
      "outputs": [],
      "source": [
        "outputs = net(images)"
      ]
    },
    {
      "cell_type": "markdown",
      "metadata": {
        "id": "xe8TpfrvoRLQ"
      },
      "source": [
        "The outputs are energies for the 10 classes.\n",
        "Higher the energy for a class, the more the network\n",
        "thinks that the image is of the particular class.\n",
        "So, let's get the index of the highest energy:\n",
        "\n"
      ]
    },
    {
      "cell_type": "code",
      "execution_count": null,
      "metadata": {
        "id": "6yh4Dx2koRLQ"
      },
      "outputs": [],
      "source": [
        "_, predicted = torch.max(outputs, 1)\n",
        "\n",
        "print('Predicted: ', ' '.join('%5s' % classes[predicted[j]]\n",
        "                              for j in range(4)))"
      ]
    },
    {
      "cell_type": "markdown",
      "metadata": {
        "id": "Z4JLhVUroRLR"
      },
      "source": [
        "The results seem pretty good.\n",
        "\n",
        "Let us look at how the network performs on the whole dataset.\n",
        "\n"
      ]
    },
    {
      "cell_type": "code",
      "execution_count": null,
      "metadata": {
        "id": "s3VC1LkhoRLR"
      },
      "outputs": [],
      "source": [
        "correct = 0\n",
        "total = 0\n",
        "with torch.no_grad():\n",
        "    for data in testloader:\n",
        "        images, labels = data\n",
        "        outputs = net(images)\n",
        "        _, predicted = torch.max(outputs.data, 1)\n",
        "        total += labels.size(0)\n",
        "        correct += (predicted == labels).sum().item()\n",
        "\n",
        "print('Accuracy of the network on the 10000 test images: %d %%' % (\n",
        "    100 * correct / total))"
      ]
    },
    {
      "cell_type": "markdown",
      "metadata": {
        "id": "00V60GAToRLS"
      },
      "source": [
        "That looks waaay better than chance, which is 10% accuracy (randomly picking\n",
        "a class out of 10 classes).\n",
        "Seems like the network learnt something.\n",
        "\n",
        "Hmmm, what are the classes that performed well, and the classes that did\n",
        "not perform well:\n",
        "\n"
      ]
    },
    {
      "cell_type": "code",
      "execution_count": null,
      "metadata": {
        "id": "Y5nO-XpvoRLS"
      },
      "outputs": [],
      "source": [
        "class_correct = list(0. for i in range(10))\n",
        "class_total = list(0. for i in range(10))\n",
        "with torch.no_grad():\n",
        "    for data in testloader:\n",
        "        images, labels = data\n",
        "        outputs = net(images)\n",
        "        _, predicted = torch.max(outputs, 1)\n",
        "        c = (predicted == labels).squeeze()\n",
        "        for i in range(4):\n",
        "            label = labels[i]\n",
        "            class_correct[label] += c[i].item()\n",
        "            class_total[label] += 1\n",
        "\n",
        "\n",
        "for i in range(10):\n",
        "    print('Accuracy of %5s : %2d %%' % (\n",
        "        classes[i], 100 * class_correct[i] / class_total[i]))"
      ]
    },
    {
      "cell_type": "markdown",
      "metadata": {
        "id": "BKmuZSouoRLT"
      },
      "source": [
        "Okay, so what next?\n",
        "\n",
        "How do we run these neural networks on the GPU?\n",
        "\n",
        "Training on GPU\n",
        "----------------\n",
        "Just like how you transfer a Tensor on to the GPU, you transfer the neural\n",
        "net onto the GPU.\n",
        "\n",
        "Let's first define our device as the first visible cuda device if we have\n",
        "CUDA available:\n",
        "\n"
      ]
    },
    {
      "cell_type": "code",
      "execution_count": null,
      "metadata": {
        "id": "MihZUJMZoRLT"
      },
      "outputs": [],
      "source": [
        "device = torch.device(\"cuda:0\" if torch.cuda.is_available() else \"cpu\")\n",
        "\n",
        "# Assume that we are on a CUDA machine, then this should print a CUDA device:\n",
        "\n",
        "print(device)"
      ]
    },
    {
      "cell_type": "markdown",
      "metadata": {
        "id": "ZWtJuYQ8oRLU"
      },
      "source": [
        "The rest of this section assumes that `device` is a CUDA device.\n",
        "\n",
        "Then these methods will recursively go over all modules and convert their\n",
        "parameters and buffers to CUDA tensors:\n",
        "\n",
        ".. code:: python\n",
        "\n",
        "    net.to(device)\n",
        "\n",
        "\n",
        "Remember that you will have to send the inputs and targets at every step\n",
        "to the GPU too:\n",
        "\n",
        ".. code:: python\n",
        "\n",
        "        inputs, labels = inputs.to(device), labels.to(device)\n",
        "\n",
        "Why dont I notice MASSIVE speedup compared to CPU? Because your network\n",
        "is realllly small.\n",
        "\n",
        "**Exercise:** Try increasing the width of your network (argument 2 of\n",
        "the first ``nn.Conv2d``, and argument 1 of the second ``nn.Conv2d`` –\n",
        "they need to be the same number), see what kind of speedup you get.\n",
        "\n",
        "**Goals achieved**:\n",
        "\n",
        "- Understanding PyTorch's Tensor library and neural networks at a high level.\n",
        "- Train a small neural network to classify images\n",
        "\n",
        "Training on multiple GPUs\n",
        "-------------------------\n",
        "If you want to see even more MASSIVE speedup using all of your GPUs,\n",
        "please check out :doc:`data_parallel_tutorial`.\n",
        "\n",
        "Where do I go next?\n",
        "-------------------\n",
        "\n",
        "-  :doc:`Train neural nets to play video games </intermediate/reinforcement_q_learning>`\n",
        "-  `Train a state-of-the-art ResNet network on imagenet`_\n",
        "-  `Train a face generator using Generative Adversarial Networks`_\n",
        "-  `Train a word-level language model using Recurrent LSTM networks`_\n",
        "-  `More examples`_\n",
        "-  `More tutorials`_\n",
        "-  `Discuss PyTorch on the Forums`_\n",
        "-  `Chat with other users on Slack`_\n",
        "\n",
        "\n"
      ]
    }
  ],
  "metadata": {
    "kernelspec": {
      "display_name": "Python 3",
      "name": "python3"
    },
    "language_info": {
      "codemirror_mode": {
        "name": "ipython",
        "version": 3
      },
      "file_extension": ".py",
      "mimetype": "text/x-python",
      "name": "python",
      "nbconvert_exporter": "python",
      "pygments_lexer": "ipython3",
      "version": "3.6.6"
    },
    "colab": {
      "provenance": [],
      "gpuType": "T4"
    },
    "accelerator": "GPU"
  },
  "nbformat": 4,
  "nbformat_minor": 0
}